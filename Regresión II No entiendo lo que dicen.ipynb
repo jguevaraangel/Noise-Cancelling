{
 "cells": [
  {
   "cell_type": "markdown",
   "metadata": {},
   "source": [
    "# Regresión II: No entiendo lo que dicen\n",
    "\n",
    "Debido a la contingencia ocasionada por el COVID, las teleconferencias son ahora mucho más comunes. Sin embargo, muchas veces el ruido de fondo no permite enender que es lo que una persona ha dicho, lo que ocasiona demoras en las reuniones. Además, el ruido de fondo (tráfico, perros, otras personas hablando, lluvia, etc..) puede ser un distractor importante en las reuniones. El profesor Alexander esta un poco cansado con esta situación, ya qu elas reuniones se alargan más de lo debido, y esto le quita tiempo para realizar otras actividades. Como los estudiantes de Machine LEarning ya saben utilizar redes neuronales, el profesor Alexander quiere que sus estudiantes desarrollen un sistema de mejora del audio, la idea es que los estudiantes desarrollen un modelo utilizando redes neuronales, que sea capaz de reducir el ruido de fondo de las señales de audio que se procesan. \n",
    "\n",
    "Para la realización de este proyecto el estudiante debera:\n",
    "\n",
    "1. Crear una base de datos con señales de personas hablando, y de diferentes ruidos de fondo, los cuales deben ser mezclados para generar las señales de entrada en el modelo de regresión. Tenga en cuenta las sigueintes consideraciones:\n",
    "    * Una red aprende con base en la información que le proporcionemos, asi que al crear la base de datos tenga en cuenta todas las posibilidades que se les ocurra de ruido de fondo y de señales de habla. Además la base de datos debe contener diferentes muestras de diferentes personas, invluyendo niños, niñas, mujeres y hombres. El objetivo es generalizar, no memorizar patrones, para esto debemos darle suficiente información a la red.\n",
    "    * Una señal de voz puede tener entre 8000 y 40000 mmuestras por segundo de grabación. Esto es bastante para ser utilizado como entrada en la red. recuerde que entre mayor dimensionalidad en los datos de entrada, mayor será la complejidad de la red necesaria. Para disminuir la complejidad el profesor Alexander recomienda el uso de la densidad espectral de potencia (PSD) utilizando un número fijo de bins frecuenciales. La PSD representa la distribucion en frecuencia de la potencia de la señal.   \n",
    "2. Definir las arquitecturas de red que debe probar.\n",
    "3. Escoger la red que mejor se desempeñe.\n",
    "4. Evaluar el rendimiento de la red.\n",
    "\n",
    "Tenga en cuenta que todo el procedimiento debe ser lo mas amigable para probar. Es decir si el profesor Alexander quiere probar con una señal de voz que él produzca, entonces él solo deberia ingresar la señal de voz y el programa debería proporcionar a la salida una estimación de la señal de voz mejorada, con el ruido de fondo reducido.\n",
    "\n",
    "Además el profesor quiere que contesten las siguientes preguntas:\n",
    "\n",
    "1. ¿Qué puede concluir del comportamiento de la red y los datos proporcionados?\n",
    "2. ¿Qué criterio utilizó para seleccionar la arquitectura de la red?\n",
    "3. ¿Tiene la red el comportamiento esperado?, si no es así, ¿A qué cree que se debe esto?\n",
    "4. ¿Qué le mejoraria al modelo que usted diseño?, ¿Cómo implementaría esas mejoras?\n",
    "\n",
    "## Qué se debe entregar:\n",
    "\n",
    "Par ala entrega del proyecto deben porporcionar:\n",
    "\n",
    "1. La base de datos generada.\n",
    "2. Un notebook de Jupyter donde presentan todo el pipeline para el entrenamiento de la red. Cada parte debe ser explicada.\n",
    "3. El notebook debe incluir una función que permita ingresar una muestra de entrada y se proporcione la salida, sin mas pasos intermedios. Por lo tanto en esta función se debe tener en cuenta el acondicionamiento de los datos, antes de ser introducidos en la red neuronal par arealizar las predicciones.\n",
    "4. El notebook debe incluir las respuestas a las preguntas planteadas."
   ]
  },
  {
   "cell_type": "code",
   "execution_count": 108,
   "metadata": {},
   "outputs": [],
   "source": [
    "import numpy as np\n",
    "import matplotlib.pyplot as plt\n",
    "import scipy.io.wavfile as waves\n",
    "\n",
    "def signal(data, frequency):\n",
    "    # funcion que divide los puntos de una señal\n",
    "    \n",
    "    data = data[:,0]\n",
    "    fixed_data = data[len(data)-frequency*2:]\n",
    "    matrix = np.zeros(shape=(9600,10))\n",
    "    count = 0\n",
    "    for i in range(10):\n",
    "        for j in range(9600):\n",
    "            matrix[j,i] = fixed_data[count]\n",
    "            count += 1\n",
    "    return matrix\n",
    "\n",
    "def words(word_list):\n",
    "    # funcion que convierte todas las palabras en matrices 9600*10\n",
    "    \n",
    "    signals = []\n",
    "    for word in word_list:\n",
    "        for i in range(5):\n",
    "            string = 'Palabras/{palabra}{index}.wav'.format(palabra = word, index = i + 1)\n",
    "            frequency, data = waves.read(string)\n",
    "            signals.append(signal(data, frequency))\n",
    "    return signals\n",
    "\n",
    "def noise(noise_list):\n",
    "    # funcion que convierte todos los rudios en matrices 9600*10\n",
    "    \n",
    "    signals = []\n",
    "    for noise in noise_list:\n",
    "        string = 'Ruidos/{ruido}.wav'.format(ruido = noise)\n",
    "        frequency, data = waves.read(string)\n",
    "        signals.append(signal(data, frequency))\n",
    "    return signals\n",
    "\n"
   ]
  },
  {
   "cell_type": "code",
   "execution_count": 110,
   "metadata": {
    "scrolled": false
   },
   "outputs": [],
   "source": [
    "word_list = ['aguacate', 'biblioteca', 'cuaderno', 'escuela', 'guarderia', 'momento', 'parqueadero', 'trabajar', 'transmilenio', 'tristeza']\n",
    "noise_list = ['aguacero', 'licuadora', 'niños', 'trafico']\n",
    "\n",
    "palabras = words(word_list)\n",
    "ruidos = noise(noise_list)\n",
    "\n",
    "# entradas -> C1 * palabra + C2 * ruido"
   ]
  }
 ],
 "metadata": {
  "kernelspec": {
   "display_name": "Python 3",
   "language": "python",
   "name": "python3"
  },
  "language_info": {
   "codemirror_mode": {
    "name": "ipython",
    "version": 3
   },
   "file_extension": ".py",
   "mimetype": "text/x-python",
   "name": "python",
   "nbconvert_exporter": "python",
   "pygments_lexer": "ipython3",
   "version": "3.8.6"
  }
 },
 "nbformat": 4,
 "nbformat_minor": 2
}
